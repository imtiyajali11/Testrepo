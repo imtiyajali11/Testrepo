{
 "cells": [
  {
   "cell_type": "markdown",
   "metadata": {},
   "source": [
    "<center>\n",
    "    <img src=\"https://cf-courses-data.s3.us.cloud-object-storage.appdomain.cloud/IBMDeveloperSkillsNetwork-DS0105EN-SkillsNetwork/labs/Module2/images/SN_web_lightmode.png\" width=\"300\" alt=\"cognitiveclass.ai logo\">\n",
    "</center>\n"
   ]
  },
  {
   "cell_type": "markdown",
   "metadata": {},
   "source": [
    "#### Add your code below following the instructions given in the course\n"
   ]
  },
  {
   "cell_type": "markdown",
   "metadata": {},
   "source": [
    "# Data Science Tools and Ecosystem"
   ]
  },
  {
   "cell_type": "markdown",
   "metadata": {},
   "source": [
    "## In this notebook, Data Science Tools and Ecosystem are summarized."
   ]
  },
  {
   "cell_type": "markdown",
   "metadata": {},
   "source": [
    "### Some of the popular languages that Data Scientists use are:"
   ]
  },
  {
   "cell_type": "markdown",
   "metadata": {
    "tags": []
   },
   "source": [
    "#### 1. **Python**: Python is one of the most popular programming languages for data science. It has a rich ecosystem of libraries and tools, including NumPy, pandas, scikit-learn, TensorFlow, and PyTorch, making it versatile for data analysis, machine learning, and visualization."
   ]
  },
  {
   "cell_type": "markdown",
   "metadata": {},
   "source": [
    "#### **R**: R is another widely used language for data science, especially in statistical analysis and data visualization. It has a comprehensive set of packages like ggplot2, dplyr, and caret, making it a favorite among statisticians and researchers."
   ]
  },
  {
   "cell_type": "markdown",
   "metadata": {},
   "source": [
    "#### **SQL (Structured Query Language)**: While not a general-purpose programming language like Python or R, SQL is essential for data scientists. It's used for data retrieval, querying, and database management. Understanding SQL is crucial for working with relational databases."
   ]
  },
  {
   "cell_type": "markdown",
   "metadata": {},
   "source": [
    "### Some of the commonly used libraries by Data Scientists include:\n",
    "\n",
    "#### 1. **pandas:** pandas is a powerful data manipulation library in Python. It provides data structures like DataFrames and Series, making it easy to clean, transform, and analyze data.\n",
    "\n",
    "#### 2. **scikit-learn:** scikit-learn is a popular machine learning library for Python. It offers a wide range of machine learning algorithms for classification, regression, clustering, and more.\n",
    "\n",
    "#### 3. **matplotlib:** matplotlib is a versatile data visualization library for Python. It allows Data Scientists to create a variety of plots, charts, and graphs to visualize their data and analysis results.\n",
    "\n",
    "#### 4. **TensorFlow:** TensorFlow is an open-source machine learning framework developed by Google. It's widely used for building and training deep learning models.\n",
    "\n",
    "#### 5. **NumPy:** NumPy is a fundamental library for numerical computations in Python. It provides support for arrays and matrices, essential for scientific computing and data analysis.\n"
   ]
  },
  {
   "cell_type": "markdown",
   "metadata": {},
   "source": [
    "|Data Science tools |\n",
    "| --------------------- |\n",
    "| Jupyter Notebook|\n",
    "| JupyterLite Notebook |\n",
    "| Visual Studio code |\n",
    "| Google Colab Notebook |\n",
    "| RStudio |\n"
   ]
  },
  {
   "cell_type": "markdown",
   "metadata": {},
   "source": [
    "### Below are a few examples of evaluating arithmetic expressions in Python"
   ]
  },
  {
   "cell_type": "code",
   "execution_count": 3,
   "metadata": {
    "tags": []
   },
   "outputs": [
    {
     "data": {
      "text/plain": [
       "17"
      ]
     },
     "execution_count": 3,
     "metadata": {},
     "output_type": "execute_result"
    }
   ],
   "source": [
    "(3*4)+5              #This a simple arithmetic expression to mutiply then add integers"
   ]
  },
  {
   "cell_type": "code",
   "execution_count": 5,
   "metadata": {
    "tags": []
   },
   "outputs": [
    {
     "data": {
      "text/plain": [
       "3.3333333333333335"
      ]
     },
     "execution_count": 5,
     "metadata": {},
     "output_type": "execute_result"
    }
   ],
   "source": [
    "200/60    #This will convert 200 minutes to hours by diving by 60"
   ]
  },
  {
   "cell_type": "markdown",
   "metadata": {},
   "source": [
    "**Objectives:**\n",
    "\n",
    "- List popular languages for Data Science.\n",
    "- Understand the role of libraries in data analysis.\n",
    "- Learn about common tools and environments for data science.\n",
    "- Explore examples of evaluating arithmetic expressions in Python.\n",
    "- Familiarize yourself with Jupyter Notebook and Markdown.\n"
   ]
  },
  {
   "cell_type": "markdown",
   "metadata": {},
   "source": [
    "## Author \n",
    "\n",
    "Imtiyaj Ali Shaikh"
   ]
  }
 ],
 "metadata": {
  "kernelspec": {
   "display_name": "Python",
   "language": "python",
   "name": "conda-env-python-py"
  },
  "language_info": {
   "codemirror_mode": {
    "name": "ipython",
    "version": 3
   },
   "file_extension": ".py",
   "mimetype": "text/x-python",
   "name": "python",
   "nbconvert_exporter": "python",
   "pygments_lexer": "ipython3",
   "version": "3.7.12"
  }
 },
 "nbformat": 4,
 "nbformat_minor": 4
}
